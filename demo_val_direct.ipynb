{
 "cells": [
  {
   "cell_type": "markdown",
   "metadata": {},
   "source": [
    "## Demo PyHeat Val_direct\n",
    "\n",
    "Ceci est une notebook de démo pour la récupération de valeur de température d'après la solution numérique des équations hydrothermiques."
   ]
  },
  {
   "cell_type": "code",
   "execution_count": 1,
   "metadata": {},
   "outputs": [],
   "source": [
    "from pyheatmy import *\n",
    "import matplotlib.pyplot as plt\n",
    "import numpy as np"
   ]
  },
  {
   "cell_type": "code",
   "execution_count": 2,
   "metadata": {},
   "outputs": [
    {
     "ename": "TypeError",
     "evalue": "valdirect.from_dict() missing 1 required positional argument: 'val_dir_dict'",
     "output_type": "error",
     "traceback": [
      "\u001b[0;31m---------------------------------------------------------------------------\u001b[0m",
      "\u001b[0;31mTypeError\u001b[0m                                 Traceback (most recent call last)",
      "\u001b[1;32m/Users/jiangxinbei/Documents/pyheatmy2022/demo_val_direct.ipynb Cell 3'\u001b[0m in \u001b[0;36m<cell line: 16>\u001b[0;34m()\u001b[0m\n\u001b[1;32m      <a href='vscode-notebook-cell:/Users/jiangxinbei/Documents/pyheatmy2022/demo_val_direct.ipynb#ch0000002?line=3'>4</a>\u001b[0m temps \u001b[39m=\u001b[39m np\u001b[39m.\u001b[39mload(\u001b[39m\"\u001b[39m\u001b[39mdata/val_data.npy\u001b[39m\u001b[39m\"\u001b[39m)\n\u001b[1;32m      <a href='vscode-notebook-cell:/Users/jiangxinbei/Documents/pyheatmy2022/demo_val_direct.ipynb#ch0000002?line=5'>6</a>\u001b[0m val_dir_dict \u001b[39m=\u001b[39m {\n\u001b[1;32m      <a href='vscode-notebook-cell:/Users/jiangxinbei/Documents/pyheatmy2022/demo_val_direct.ipynb#ch0000002?line=6'>7</a>\u001b[0m     \u001b[39m\"\u001b[39m\u001b[39mdepth_sensors\u001b[39m\u001b[39m\"\u001b[39m: [\u001b[39m.15\u001b[39m, \u001b[39m.25\u001b[39m, \u001b[39m.4\u001b[39m], \u001b[39m#En vrai y aura une 4e valeur ici mais ca prendra en charge pareil\u001b[39;00m\n\u001b[1;32m      <a href='vscode-notebook-cell:/Users/jiangxinbei/Documents/pyheatmy2022/demo_val_direct.ipynb#ch0000002?line=7'>8</a>\u001b[0m \t\u001b[39m\"\u001b[39m\u001b[39moffset\u001b[39m\u001b[39m\"\u001b[39m: \u001b[39m.05\u001b[39m,\n\u001b[0;32m   (...)\u001b[0m\n\u001b[1;32m     <a href='vscode-notebook-cell:/Users/jiangxinbei/Documents/pyheatmy2022/demo_val_direct.ipynb#ch0000002?line=12'>13</a>\u001b[0m     \u001b[39m\"\u001b[39m\u001b[39mrho_c_w\u001b[39m\u001b[39m\"\u001b[39m: \u001b[39m1\u001b[39m \u001b[39m#a modifier\u001b[39;00m\n\u001b[1;32m     <a href='vscode-notebook-cell:/Users/jiangxinbei/Documents/pyheatmy2022/demo_val_direct.ipynb#ch0000002?line=13'>14</a>\u001b[0m }\n\u001b[0;32m---> <a href='vscode-notebook-cell:/Users/jiangxinbei/Documents/pyheatmy2022/demo_val_direct.ipynb#ch0000002?line=15'>16</a>\u001b[0m col_analy \u001b[39m=\u001b[39m valdirect\u001b[39m.\u001b[39;49mfrom_dict(val_dir_dict)\n",
      "\u001b[0;31mTypeError\u001b[0m: valdirect.from_dict() missing 1 required positional argument: 'val_dir_dict'"
     ]
    }
   ],
   "source": [
    "from datetime import datetime\n",
    "\n",
    "times = [datetime.fromtimestamp(1000*k) for k in range(500)]\n",
    "temps = np.load(\"data/val_data.npy\")\n",
    "\n",
    "val_dir_dict = {\n",
    "    \"depth_sensors\": [.15, .25, .4], #En vrai y aura une 4e valeur ici mais ca prendra en charge pareil\n",
    "\t\"offset\": .05,\n",
    "    \"dH_measures\": list(zip(times,list(zip(-.01*np.cos(np.linspace(0,2*np.pi,500))+.03, temps[:,0])))),\n",
    "    \"moinslog10K\": 4,\n",
    "    \"lambda_m\": 1, #a modifier\n",
    "    \"rho_c_m\": 1, #a modifier\n",
    "    \"rho_c_w\": 1 #a modifier\n",
    "}\n",
    "\n",
    "col_analy = valdirect.from_dict(val_dir_dict)"
   ]
  },
  {
   "cell_type": "code",
   "execution_count": null,
   "metadata": {},
   "outputs": [],
   "source": [
    "ncell =100\n",
    "\n",
    "col_analy.compute_temp_general(ncell, 24, 1, 1)\n",
    "col_analy.compute_temp_cond(ncell, 24 , 1, 1)"
   ]
  },
  {
   "cell_type": "code",
   "execution_count": null,
   "metadata": {},
   "outputs": [],
   "source": [
    "col.get_loc(100)"
   ]
  }
 ],
 "metadata": {
  "interpreter": {
   "hash": "aee8b7b246df8f9039afb4144a1f6fd8d2ca17a180786b69acc140d282b71a49"
  },
  "kernelspec": {
   "display_name": "Python 3.10.1 64-bit",
   "language": "python",
   "name": "python3"
  },
  "language_info": {
   "codemirror_mode": {
    "name": "ipython",
    "version": 3
   },
   "file_extension": ".py",
   "mimetype": "text/x-python",
   "name": "python",
   "nbconvert_exporter": "python",
   "pygments_lexer": "ipython3",
   "version": "3.10.1"
  },
  "orig_nbformat": 4
 },
 "nbformat": 4,
 "nbformat_minor": 2
}
