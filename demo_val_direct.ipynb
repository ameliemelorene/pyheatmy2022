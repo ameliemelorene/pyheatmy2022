{
 "cells": [
  {
   "cell_type": "markdown",
   "metadata": {},
   "source": [
    "## Demo PyHeat Val_direct\n",
    "\n",
    "Ceci est une notebook de démo pour la récupération de valeur de température d'après la solution numérique des équations hydrothermiques."
   ]
  },
  {
   "cell_type": "code",
   "execution_count": 1,
   "metadata": {},
   "outputs": [],
   "source": [
    "from pyheatmy import *\n",
    "import matplotlib.pyplot as plt\n",
    "import numpy as np"
   ]
  },
  {
   "cell_type": "code",
   "execution_count": null,
   "metadata": {},
   "outputs": [],
   "source": [
    "# paremètres de l'expérience\n",
    "t_debut = (2011, 8, 1)\n",
    "t_fin = (2011, 8, 31, 23, 59, 59)\n",
    "dt = 15*60 # pas de temps en (s)\n",
    "\n",
    "T_riv_amp = 4\n",
    "T_riv_offset = 20\n",
    "P_T_riv = 72*4*dt\n",
    "\n",
    "T_aq_amp = 0\n",
    "T_aq_offset = 14\n",
    "P_T_aq = 9999 # à mettre dans le init\n",
    "\n",
    "dH_amp = 0\n",
    "dH_offset = 1\n",
    "P_dh = -9999 #14*24*4*dt\n",
    "\n",
    "depth_sensors = [.1, .2, .3, .4]\n",
    "\n",
    "moinslog10K = 4\n",
    "n = .1\n",
    "lambda_s = 2\n",
    "rho_cs = 4e6\n"
   ]
  },
  {
   "cell_type": "code",
   "execution_count": null,
   "metadata": {},
   "outputs": [],
   "source": [
    "# définition de l'expérience \n",
    "\n",
    "\"\"\"Times series\"\"\"\n",
    "time_series_dict = {\n",
    "    \"offset\" : 0,\n",
    "    \"depth_sensors\":depth_sensors,\n",
    "\t\"param_time_dates\": [t_debut, t_fin, dt], \n",
    "    \"param_dH_signal\": [dH_amp, P_dh, dH_offset], #En vrai y aura une 4e valeur ici mais ca prendra en charge pareil\n",
    "\t\"param_T_riv_signal\": [T_riv_amp, P_T_riv, T_riv_offset],\n",
    "    \"param_T_aq_signal\": [T_aq_amp, P_T_aq, T_aq_offset],\n",
    "    \"sigma_meas_P\": 0.05,\n",
    "    \"sigma_meas_T\": 0.1, #float\n",
    "}\n",
    "time_series = Time_series.from_dict(time_series_dict)\n",
    "\n",
    "\"\"\"Colonne\"\"\"\n",
    "col_dict = {\n",
    "\t\"river_bed\": 1., \n",
    "    \"depth_sensors\": depth_sensors, #En vrai y aura une 4e valeur ici mais ca prendra en charge pareil\n",
    "\t\"offset\": .0,\n",
    "    \"dH_measures\": time_series._T_riv_dH_measures,\n",
    "    \"T_measures\": time_series._T_Shaft_measures,\n",
    "    \"sigma_meas_P\": time_series._sigma_P, #float\n",
    "    \"sigma_meas_T\": time_series._sigma_T, #float\n",
    "}\n",
    "colonne_exp = Column.from_dict(col_dict)\n",
    "\n",
    "\"\"\"Layer\"\"\"\n",
    "monolayer_dict = {\n",
    "    name: \"sable\",\n",
    "    zLow: depth_sensors[-1],\n",
    "    moinslog10K: moinslog10K,\n",
    "    n: n,\n",
    "    lambda_s: lambda_s,\n",
    "    rhos_cs: rho_cs\n",
    "}\n",
    "monolayer = Layer.from_dict(monolayer_dict)"
   ]
  },
  {
   "cell_type": "code",
   "execution_count": 2,
   "metadata": {},
   "outputs": [
    {
     "ename": "TypeError",
     "evalue": "valdirect.__init__() got an unexpected keyword argument 'depth_sensors'",
     "output_type": "error",
     "traceback": [
      "\u001b[1;31m---------------------------------------------------------------------------\u001b[0m",
      "\u001b[1;31mTypeError\u001b[0m                                 Traceback (most recent call last)",
      "\u001b[1;32mc:\\Users\\guill\\Dropbox\\Ingenieur_civil_Mines\\S4\\PI MOLONARI\\Projet_calcul\\pyheatmy2022\\demo_val_direct.ipynb Cell 3'\u001b[0m in \u001b[0;36m<cell line: 16>\u001b[1;34m()\u001b[0m\n\u001b[0;32m      <a href='vscode-notebook-cell:/c%3A/Users/guill/Dropbox/Ingenieur_civil_Mines/S4/PI%20MOLONARI/Projet_calcul/pyheatmy2022/demo_val_direct.ipynb#ch0000002?line=3'>4</a>\u001b[0m temps \u001b[39m=\u001b[39m np\u001b[39m.\u001b[39mload(\u001b[39m\"\u001b[39m\u001b[39mdata/val_data.npy\u001b[39m\u001b[39m\"\u001b[39m)\n\u001b[0;32m      <a href='vscode-notebook-cell:/c%3A/Users/guill/Dropbox/Ingenieur_civil_Mines/S4/PI%20MOLONARI/Projet_calcul/pyheatmy2022/demo_val_direct.ipynb#ch0000002?line=5'>6</a>\u001b[0m val_dir_dict \u001b[39m=\u001b[39m {\n\u001b[0;32m      <a href='vscode-notebook-cell:/c%3A/Users/guill/Dropbox/Ingenieur_civil_Mines/S4/PI%20MOLONARI/Projet_calcul/pyheatmy2022/demo_val_direct.ipynb#ch0000002?line=6'>7</a>\u001b[0m     \u001b[39m\"\u001b[39m\u001b[39mdepth_sensors\u001b[39m\u001b[39m\"\u001b[39m: [\u001b[39m.15\u001b[39m, \u001b[39m.25\u001b[39m, \u001b[39m.4\u001b[39m], \u001b[39m#En vrai y aura une 4e valeur ici mais ca prendra en charge pareil\u001b[39;00m\n\u001b[0;32m      <a href='vscode-notebook-cell:/c%3A/Users/guill/Dropbox/Ingenieur_civil_Mines/S4/PI%20MOLONARI/Projet_calcul/pyheatmy2022/demo_val_direct.ipynb#ch0000002?line=7'>8</a>\u001b[0m \t\u001b[39m\"\u001b[39m\u001b[39moffset\u001b[39m\u001b[39m\"\u001b[39m: \u001b[39m.05\u001b[39m,\n\u001b[1;32m   (...)\u001b[0m\n\u001b[0;32m     <a href='vscode-notebook-cell:/c%3A/Users/guill/Dropbox/Ingenieur_civil_Mines/S4/PI%20MOLONARI/Projet_calcul/pyheatmy2022/demo_val_direct.ipynb#ch0000002?line=12'>13</a>\u001b[0m     \u001b[39m\"\u001b[39m\u001b[39mrho_c_w\u001b[39m\u001b[39m\"\u001b[39m: \u001b[39m1\u001b[39m \u001b[39m#a modifier\u001b[39;00m\n\u001b[0;32m     <a href='vscode-notebook-cell:/c%3A/Users/guill/Dropbox/Ingenieur_civil_Mines/S4/PI%20MOLONARI/Projet_calcul/pyheatmy2022/demo_val_direct.ipynb#ch0000002?line=13'>14</a>\u001b[0m }\n\u001b[1;32m---> <a href='vscode-notebook-cell:/c%3A/Users/guill/Dropbox/Ingenieur_civil_Mines/S4/PI%20MOLONARI/Projet_calcul/pyheatmy2022/demo_val_direct.ipynb#ch0000002?line=15'>16</a>\u001b[0m col_analy \u001b[39m=\u001b[39m valdirect\u001b[39m.\u001b[39;49mfrom_dict(val_dir_dict)\n",
      "File \u001b[1;32mc:\\Users\\guill\\Dropbox\\Ingenieur_civil_Mines\\S4\\PI MOLONARI\\Projet_calcul\\pyheatmy2022\\pyheatmy\\val_direct.py:53\u001b[0m, in \u001b[0;36mvaldirect.from_dict\u001b[1;34m(cls, val_dir_dict)\u001b[0m\n\u001b[0;32m     <a href='file:///c%3A/Users/guill/Dropbox/Ingenieur_civil_Mines/S4/PI%20MOLONARI/Projet_calcul/pyheatmy2022/pyheatmy/val_direct.py?line=50'>51</a>\u001b[0m \u001b[39m@classmethod\u001b[39m\n\u001b[0;32m     <a href='file:///c%3A/Users/guill/Dropbox/Ingenieur_civil_Mines/S4/PI%20MOLONARI/Projet_calcul/pyheatmy2022/pyheatmy/val_direct.py?line=51'>52</a>\u001b[0m \u001b[39mdef\u001b[39;00m \u001b[39mfrom_dict\u001b[39m(\u001b[39mcls\u001b[39m, val_dir_dict):\n\u001b[1;32m---> <a href='file:///c%3A/Users/guill/Dropbox/Ingenieur_civil_Mines/S4/PI%20MOLONARI/Projet_calcul/pyheatmy2022/pyheatmy/val_direct.py?line=52'>53</a>\u001b[0m     \u001b[39mreturn\u001b[39;00m \u001b[39mcls\u001b[39m(\u001b[39m*\u001b[39m\u001b[39m*\u001b[39mval_dir_dict)\n",
      "\u001b[1;31mTypeError\u001b[0m: valdirect.__init__() got an unexpected keyword argument 'depth_sensors'"
     ]
    }
   ],
   "source": [
    "val_dir_dict = {\n",
    "    \"depth_sensors\": [.15, .25, .4], #En vrai y aura une 4e valeur ici mais ca prendra en charge pareil\n",
    "\t\"offset\": .05,\n",
    "    \"dH_measures\": list(zip(times,list(zip(-.01*np.cos(np.linspace(0,2*np.pi,500))+.03, temps[:,0])))),\n",
    "    \"moinslog10K\": 4,\n",
    "    \"lambda_m\": 1, #a modifier\n",
    "    \"rho_c_m\": 1, #a modifier\n",
    "    \"rho_c_w\": 1 #a modifier\n",
    "}\n",
    "\n",
    "col_analy = valdirect.from_dict(val_dir_dict)"
   ]
  },
  {
   "cell_type": "code",
   "execution_count": null,
   "metadata": {},
   "outputs": [],
   "source": [
    "ncell =100\n",
    "\n",
    "col_analy.compute_temp_general(ncell, 24, 1, 1)\n",
    "col_analy.compute_temp_cond(ncell, 24 , 1, 1)"
   ]
  },
  {
   "cell_type": "code",
   "execution_count": null,
   "metadata": {},
   "outputs": [],
   "source": [
    "col.get_loc(100)"
   ]
  }
 ],
 "metadata": {
  "interpreter": {
   "hash": "aee8b7b246df8f9039afb4144a1f6fd8d2ca17a180786b69acc140d282b71a49"
  },
  "kernelspec": {
   "display_name": "Python 3.10.1 64-bit",
   "language": "python",
   "name": "python3"
  },
  "language_info": {
   "codemirror_mode": {
    "name": "ipython",
    "version": 3
   },
   "file_extension": ".py",
   "mimetype": "text/x-python",
   "name": "python",
   "nbconvert_exporter": "python",
   "pygments_lexer": "ipython3",
   "version": "3.10.4"
  },
  "orig_nbformat": 4
 },
 "nbformat": 4,
 "nbformat_minor": 2
}
