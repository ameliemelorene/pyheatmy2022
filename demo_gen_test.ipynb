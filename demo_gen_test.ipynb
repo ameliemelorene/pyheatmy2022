{
 "cells": [
  {
   "cell_type": "code",
   "execution_count": 5,
   "metadata": {},
   "outputs": [],
   "source": [
    "# démo gen_test\n",
    "from pyheatmy import *\n",
    "import matplotlib.pyplot as plt\n",
    "import numpy as np"
   ]
  },
  {
   "cell_type": "code",
   "execution_count": 6,
   "metadata": {},
   "outputs": [],
   "source": [
    "t_debut = (2010, 12, 1)\n",
    "t_fin = (2010, 12, 30, 23, 59, 59)\n",
    "dt = 15*60 # pas de temps en (s)\n",
    "\n",
    "T_riv_amp = 2\n",
    "T_riv_offset = 12\n",
    "P_T_riv = 24*4*dt\n",
    "\n",
    "T_aq_amp = 0\n",
    "T_aq_offset = 12\n",
    "P_T_aq = 0\n",
    "\n",
    "dH_amp = 0.1\n",
    "dH_offset = 0\n",
    "P_dh = 14*24*4*dt"
   ]
  },
  {
   "cell_type": "code",
   "execution_count": 7,
   "metadata": {},
   "outputs": [
    {
     "ename": "NameError",
     "evalue": "name 'Time_series' is not defined",
     "output_type": "error",
     "traceback": [
      "\u001b[1;31m---------------------------------------------------------------------------\u001b[0m",
      "\u001b[1;31mNameError\u001b[0m                                 Traceback (most recent call last)",
      "\u001b[1;32mc:\\Users\\guill\\Dropbox\\Ingenieur_civil_Mines\\S4\\PI MOLONARI\\Projet_calcul\\pyheatmy2022\\demo_gen_test.ipynb Cell 3'\u001b[0m in \u001b[0;36m<cell line: 1>\u001b[1;34m()\u001b[0m\n\u001b[1;32m----> <a href='vscode-notebook-cell:/c%3A/Users/guill/Dropbox/Ingenieur_civil_Mines/S4/PI%20MOLONARI/Projet_calcul/pyheatmy2022/demo_gen_test.ipynb#ch0000001?line=0'>1</a>\u001b[0m emu_observ_test \u001b[39m=\u001b[39m Time_series\u001b[39m.\u001b[39mfrom_dict(time_series_dict)\n\u001b[0;32m      <a href='vscode-notebook-cell:/c%3A/Users/guill/Dropbox/Ingenieur_civil_Mines/S4/PI%20MOLONARI/Projet_calcul/pyheatmy2022/demo_gen_test.ipynb#ch0000001?line=2'>3</a>\u001b[0m time_series_dict \u001b[39m=\u001b[39m {\n\u001b[0;32m      <a href='vscode-notebook-cell:/c%3A/Users/guill/Dropbox/Ingenieur_civil_Mines/S4/PI%20MOLONARI/Projet_calcul/pyheatmy2022/demo_gen_test.ipynb#ch0000001?line=3'>4</a>\u001b[0m \t\u001b[39m\"\u001b[39m\u001b[39mparam_time_dates\u001b[39m\u001b[39m\"\u001b[39m: [t_debut, t_fin, dt], \n\u001b[0;32m      <a href='vscode-notebook-cell:/c%3A/Users/guill/Dropbox/Ingenieur_civil_Mines/S4/PI%20MOLONARI/Projet_calcul/pyheatmy2022/demo_gen_test.ipynb#ch0000001?line=4'>5</a>\u001b[0m     \u001b[39m\"\u001b[39m\u001b[39mparam_dH_signal\u001b[39m\u001b[39m\"\u001b[39m: [dH_amp, P_dh, dH_offset], \u001b[39m#En vrai y aura une 4e valeur ici mais ca prendra en charge pareil\u001b[39;00m\n\u001b[1;32m   (...)\u001b[0m\n\u001b[0;32m      <a href='vscode-notebook-cell:/c%3A/Users/guill/Dropbox/Ingenieur_civil_Mines/S4/PI%20MOLONARI/Projet_calcul/pyheatmy2022/demo_gen_test.ipynb#ch0000001?line=8'>9</a>\u001b[0m     \u001b[39m\"\u001b[39m\u001b[39msigma_meas_T\u001b[39m\u001b[39m\"\u001b[39m: \u001b[39mNone\u001b[39;00m, \u001b[39m#float\u001b[39;00m\n\u001b[0;32m     <a href='vscode-notebook-cell:/c%3A/Users/guill/Dropbox/Ingenieur_civil_Mines/S4/PI%20MOLONARI/Projet_calcul/pyheatmy2022/demo_gen_test.ipynb#ch0000001?line=9'>10</a>\u001b[0m }\n",
      "\u001b[1;31mNameError\u001b[0m: name 'Time_series' is not defined"
     ]
    }
   ],
   "source": [
    "time_series_dict = {\n",
    "\t\"param_time_dates\": [t_debut, t_fin, dt], \n",
    "    \"param_dH_signal\": [dH_amp, P_dh, dH_offset], #En vrai y aura une 4e valeur ici mais ca prendra en charge pareil\n",
    "\t\"param_T_riv_signal\": [T_riv_amp, P_T_riv, T_riv_offset],\n",
    "    \"param_T_aq_signal\": [T_aq_amp, P_T_aq, T_aq_offset],\n",
    "    \"sigma_meas_P\": None,\n",
    "    \"sigma_meas_T\": None, #float\n",
    "}\n",
    "\n",
    "emu_observ_test = Time_series.from_dict(time_series_dict)"
   ]
  }
 ],
 "metadata": {
  "interpreter": {
   "hash": "9efce205f64ad363cd9f14615485aca38ee4ef0915866e318aa83c8d0c93f6fc"
  },
  "kernelspec": {
   "display_name": "Python 3.10.4 64-bit",
   "language": "python",
   "name": "python3"
  },
  "language_info": {
   "codemirror_mode": {
    "name": "ipython",
    "version": 3
   },
   "file_extension": ".py",
   "mimetype": "text/x-python",
   "name": "python",
   "nbconvert_exporter": "python",
   "pygments_lexer": "ipython3",
   "version": "3.10.4"
  },
  "orig_nbformat": 4
 },
 "nbformat": 4,
 "nbformat_minor": 2
}
