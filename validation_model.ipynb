{
 "cells": [
  {
   "cell_type": "markdown",
   "metadata": {},
   "source": [
    "## Demo PyHeat Youri & Mathis\n",
    "\n",
    "Ceci est une notebook de démo pour la lib pyheat.\n",
    "C'est une version temporaire\n",
    "\n",
    "Toutes les valeurs utilisées dans ce notebook sont totalement arbitraires.\n",
    "L'objectif n'est pas de montrer des résultats mais le fonctionnement de la lib et ses entrées/sorties."
   ]
  },
  {
   "cell_type": "code",
   "execution_count": 2,
   "metadata": {},
   "outputs": [],
   "source": [
    "from pyheatmy import *\n",
    "import matplotlib.pyplot as plt\n",
    "import numpy as np\n",
    "import pandas as pd\n",
    "\n",
    "from datetime import datetime"
   ]
  },
  {
   "cell_type": "code",
   "execution_count": 5,
   "metadata": {},
   "outputs": [],
   "source": [
    "# read in our data\n",
    "capteur_riviere = pd.read_csv(\"data/Point034/point034_P_measures.csv\", sep = ',', header = 0, names = ['dates', 'tension', 'temperature_riviere'], usecols = [1, 2, 3], skiprows=1)\n",
    "capteur_ZH = pd.read_csv(\"data/Point034/point034_T_measures.csv\", sep = ',', header = 0, names = ['dates', 'temperature_10', 'temperature_20', 'temperature_30', 'temperature_40'], usecols = [1, 2, 3, 4, 5], skiprows=1)\n",
    "etalonage_capteur_riv = pd.read_csv(\"configuration/pressure_sensors/P508.csv\")\n",
    "\n",
    "# set seed for reproducibility\n",
    "np.random.seed(0)\n",
    "\n",
    "# conversion des mesures de pression\n",
    "intercept = float(etalonage_capteur_riv['P508'][2])\n",
    "a = float(etalonage_capteur_riv['P508'][3])\n",
    "b = float(etalonage_capteur_riv['P508'][4])\n",
    "capteur_riviere['dH'] = (capteur_riviere['tension'].astype(float)-intercept-capteur_riviere['temperature_riviere'].astype(float)*b)/a\n",
    "\n",
    "# mise en forme de la date\n",
    "capteur_riviere['dates'] = pd.to_datetime(capteur_riviere['dates'], infer_datetime_format=True)\n",
    "capteur_ZH['dates'] = pd.to_datetime(capteur_ZH['dates'], infer_datetime_format=True)\n",
    "\n",
    "# conversion mesures de tempétratures\n",
    "capteur_riviere['temperature_riviere'] = capteur_riviere['temperature_riviere'] + 273.15\n",
    "capteur_ZH['temperature_10'] = capteur_ZH['temperature_10'] + 273.15\n",
    "capteur_ZH['temperature_20'] = capteur_ZH['temperature_20'] + 273.15\n",
    "capteur_ZH['temperature_30'] = capteur_ZH['temperature_30'] + 273.15\n",
    "capteur_ZH['temperature_40'] = capteur_ZH['temperature_40'] + 273.15\n",
    "\n",
    "# définition des attributs de colonnes\n",
    "dH_measures = list(zip(capteur_riviere['dates'],list(zip(capteur_riviere['dH'], capteur_riviere['temperature_riviere']))))\n",
    "T_measures = list(zip(capteur_ZH['dates'], capteur_ZH[['temperature_10', 'temperature_20', 'temperature_30', 'temperature_40']].to_numpy()))"
   ]
  },
  {
   "cell_type": "code",
   "execution_count": 6,
   "metadata": {},
   "outputs": [
    {
     "data": {
      "text/html": [
       "<div>\n",
       "<style scoped>\n",
       "    .dataframe tbody tr th:only-of-type {\n",
       "        vertical-align: middle;\n",
       "    }\n",
       "\n",
       "    .dataframe tbody tr th {\n",
       "        vertical-align: top;\n",
       "    }\n",
       "\n",
       "    .dataframe thead th {\n",
       "        text-align: right;\n",
       "    }\n",
       "</style>\n",
       "<table border=\"1\" class=\"dataframe\">\n",
       "  <thead>\n",
       "    <tr style=\"text-align: right;\">\n",
       "      <th></th>\n",
       "      <th>dates</th>\n",
       "      <th>temperature_10</th>\n",
       "      <th>temperature_20</th>\n",
       "      <th>temperature_30</th>\n",
       "      <th>temperature_40</th>\n",
       "    </tr>\n",
       "  </thead>\n",
       "  <tbody>\n",
       "    <tr>\n",
       "      <th>0</th>\n",
       "      <td>2016-06-27 12:00:00</td>\n",
       "      <td>286.960</td>\n",
       "      <td>286.984</td>\n",
       "      <td>287.008</td>\n",
       "      <td>286.960</td>\n",
       "    </tr>\n",
       "    <tr>\n",
       "      <th>1</th>\n",
       "      <td>2016-06-27 12:15:00</td>\n",
       "      <td>286.984</td>\n",
       "      <td>287.008</td>\n",
       "      <td>287.032</td>\n",
       "      <td>286.984</td>\n",
       "    </tr>\n",
       "    <tr>\n",
       "      <th>2</th>\n",
       "      <td>2016-06-27 12:30:00</td>\n",
       "      <td>287.080</td>\n",
       "      <td>287.104</td>\n",
       "      <td>287.200</td>\n",
       "      <td>287.152</td>\n",
       "    </tr>\n",
       "    <tr>\n",
       "      <th>3</th>\n",
       "      <td>2016-06-27 12:45:00</td>\n",
       "      <td>287.032</td>\n",
       "      <td>287.104</td>\n",
       "      <td>287.176</td>\n",
       "      <td>287.104</td>\n",
       "    </tr>\n",
       "    <tr>\n",
       "      <th>4</th>\n",
       "      <td>2016-06-27 13:00:00</td>\n",
       "      <td>287.008</td>\n",
       "      <td>287.080</td>\n",
       "      <td>287.176</td>\n",
       "      <td>287.104</td>\n",
       "    </tr>\n",
       "  </tbody>\n",
       "</table>\n",
       "</div>"
      ],
      "text/plain": [
       "                dates  temperature_10  temperature_20  temperature_30  \\\n",
       "0 2016-06-27 12:00:00         286.960         286.984         287.008   \n",
       "1 2016-06-27 12:15:00         286.984         287.008         287.032   \n",
       "2 2016-06-27 12:30:00         287.080         287.104         287.200   \n",
       "3 2016-06-27 12:45:00         287.032         287.104         287.176   \n",
       "4 2016-06-27 13:00:00         287.008         287.080         287.176   \n",
       "\n",
       "   temperature_40  \n",
       "0         286.960  \n",
       "1         286.984  \n",
       "2         287.152  \n",
       "3         287.104  \n",
       "4         287.104  "
      ]
     },
     "execution_count": 6,
     "metadata": {},
     "output_type": "execute_result"
    }
   ],
   "source": [
    "capteur_ZH.head()"
   ]
  },
  {
   "cell_type": "code",
   "execution_count": 7,
   "metadata": {},
   "outputs": [],
   "source": [
    "\n",
    "\n",
    "col_dict = {\n",
    "\t\"river_bed\": 1., \n",
    "    \"depth_sensors\": [.1, .2, .3, .4],\n",
    "\t\"offset\": .05,\n",
    "    \"dH_measures\": dH_measures,\n",
    "\t\"T_measures\": T_measures,\n",
    "    \"sigma_meas_P\": None, #float\n",
    "    \"sigma_meas_T\": None, #float\n",
    "}\n",
    "\n",
    "col = Column.from_dict(col_dict)"
   ]
  },
  {
   "cell_type": "code",
   "execution_count": 8,
   "metadata": {},
   "outputs": [
    {
     "name": "stdout",
     "output_type": "stream",
     "text": [
      "compute_solve_transi has to be computed before calling get_depths_solve.\n",
      "compute_mcmc has to be computed before calling get_all_n.\n"
     ]
    }
   ],
   "source": [
    "try:\n",
    "    col.get_depths_solve()\n",
    "except ComputationOrderException as e:\n",
    "    print(e)\n",
    "    \n",
    "try:\n",
    "    col.get_all_n()\n",
    "except ComputationOrderException as e:\n",
    "    print(e)"
   ]
  },
  {
   "cell_type": "code",
   "execution_count": 9,
   "metadata": {},
   "outputs": [],
   "source": [
    "#Peut définir un tuple avec la class Param (NamedTuple)\n",
    "params = Param(\n",
    "    moinslog10K = 4,\n",
    "    n = .1,\n",
    "    lambda_s = 2,\n",
    "    rhos_cs = 4e6\n",
    ")\n",
    "\n",
    "#Ou en tuple plus classiquement\n",
    "params_tuple = (4, .1, 2, 4e6)\n",
    "\n",
    "assert params == params_tuple"
   ]
  },
  {
   "cell_type": "code",
   "execution_count": 10,
   "metadata": {
    "tags": []
   },
   "outputs": [
    {
     "name": "stdout",
     "output_type": "stream",
     "text": [
      "--- Compute Solve Transi ---\n",
      "Parametres(moinslog10K=4, n=0.1, lambda_s=2, rhos_cs=4000000.0)\n",
      "Done.\n",
      "--- Compute Solve Transi ---\n",
      "Parametres(moinslog10K=4, n=0.1, lambda_s=2, rhos_cs=4000000.0)\n",
      "Done.\n"
     ]
    },
    {
     "ename": "AssertionError",
     "evalue": "",
     "output_type": "error",
     "traceback": [
      "\u001b[1;31m---------------------------------------------------------------------------\u001b[0m",
      "\u001b[1;31mAssertionError\u001b[0m                            Traceback (most recent call last)",
      "\u001b[1;32mc:\\Users\\guill\\Dropbox\\Ingenieur_civil_Mines\\S4\\PI MOLONARI\\Projet_calcul\\pyheatmy2022\\validation_model.ipynb Cell 8'\u001b[0m in \u001b[0;36m<cell line: 9>\u001b[1;34m()\u001b[0m\n\u001b[0;32m      <a href='vscode-notebook-cell:/c%3A/Users/guill/Dropbox/Ingenieur_civil_Mines/S4/PI%20MOLONARI/Projet_calcul/pyheatmy2022/validation_model.ipynb#ch0000008?line=4'>5</a>\u001b[0m col\u001b[39m.\u001b[39mcompute_solve_transi(params_tuple, \u001b[39m100\u001b[39m)\n\u001b[0;32m      <a href='vscode-notebook-cell:/c%3A/Users/guill/Dropbox/Ingenieur_civil_Mines/S4/PI%20MOLONARI/Projet_calcul/pyheatmy2022/validation_model.ipynb#ch0000008?line=6'>7</a>\u001b[0m temps_from_tuple \u001b[39m=\u001b[39m col\u001b[39m.\u001b[39mtemps_solve\n\u001b[1;32m----> <a href='vscode-notebook-cell:/c%3A/Users/guill/Dropbox/Ingenieur_civil_Mines/S4/PI%20MOLONARI/Projet_calcul/pyheatmy2022/validation_model.ipynb#ch0000008?line=8'>9</a>\u001b[0m \u001b[39massert\u001b[39;00m np\u001b[39m.\u001b[39marray_equal(temps, temps_from_tuple)\n",
      "\u001b[1;31mAssertionError\u001b[0m: "
     ]
    }
   ],
   "source": [
    "col.compute_solve_transi(params, 100)\n",
    "\n",
    "temps = col.temps_solve\n",
    "\n",
    "col.compute_solve_transi(params_tuple, 100)\n",
    "\n",
    "temps_from_tuple = col.temps_solve\n",
    "\n",
    "assert np.array_equal(temps, temps_from_tuple)"
   ]
  },
  {
   "cell_type": "code",
   "execution_count": 13,
   "metadata": {},
   "outputs": [
    {
     "data": {
      "text/plain": [
       "array([[291.3441 , 287.50143, 286.6134 , ...,       nan,       nan,\n",
       "              nan],\n",
       "       [291.058  , 288.18478, 286.79037, ...,       nan,       nan,\n",
       "              nan],\n",
       "       [290.78473, 288.63757, 287.0357 , ...,       nan,       nan,\n",
       "              nan],\n",
       "       ...,\n",
       "       [286.1446 , 286.1045 , 286.23962, ...,       nan,       nan,\n",
       "              nan],\n",
       "       [286.07278, 286.05344, 286.2018 , ...,       nan,       nan,\n",
       "              nan],\n",
       "       [285.99826, 286.0061 , 286.1674 , ...,       nan,       nan,\n",
       "              nan]], dtype=float32)"
      ]
     },
     "execution_count": 13,
     "metadata": {},
     "output_type": "execute_result"
    }
   ],
   "source": [
    "temps"
   ]
  },
  {
   "cell_type": "code",
   "execution_count": 16,
   "metadata": {},
   "outputs": [
    {
     "data": {
      "text/plain": [
       "array([[ 0.,  0.,  0., ..., nan, nan, nan],\n",
       "       [ 0.,  0.,  0., ..., nan, nan, nan],\n",
       "       [ 0.,  0.,  0., ..., nan, nan, nan],\n",
       "       ...,\n",
       "       [ 0.,  0.,  0., ..., nan, nan, nan],\n",
       "       [ 0.,  0.,  0., ..., nan, nan, nan],\n",
       "       [ 0.,  0.,  0., ..., nan, nan, nan]], dtype=float32)"
      ]
     },
     "execution_count": 16,
     "metadata": {},
     "output_type": "execute_result"
    }
   ],
   "source": [
    "temps_from_tuple - temps"
   ]
  },
  {
   "cell_type": "code",
   "execution_count": 11,
   "metadata": {},
   "outputs": [
    {
     "data": {
      "text/plain": [
       "285.84055"
      ]
     },
     "execution_count": 11,
     "metadata": {},
     "output_type": "execute_result"
    },
    {
     "data": {
      "image/png": "[encoded data removed]",
      "text/plain": [
       "<Figure size 432x288 with 1 Axes>"
      ]
     },
     "metadata": {},
     "output_type": "display_data"
    }
   ],
   "source": [
    "#Tout est stocké dans la class col pour ne pas avoir à le stocker hors de la class\n",
    "fig, ax = plt.subplots(facecolor = 'w')\n",
    "\n",
    "ax.imshow(\n",
    "    col.temps_solve,\n",
    "    aspect = \"auto\",\n",
    "    extent = [0, 1, col.depths_solve[-1], col.depths_solve[0]], #TODO : trouver comment monter le datetime\n",
    ")\n",
    "\n",
    "ax.set_xlabel(\"time\")\n",
    "ax.set_ylabel(\"depth (m)\")\n",
    "np.nanmin(col.temps_solve[:,:-5])"
   ]
  },
  {
   "cell_type": "code",
   "execution_count": 12,
   "metadata": {},
   "outputs": [
    {
     "ename": "ValueError",
     "evalue": "operands could not be broadcast together with shapes (1438,) (1460,) ",
     "output_type": "error",
     "traceback": [
      "\u001b[1;31m---------------------------------------------------------------------------\u001b[0m",
      "\u001b[1;31mValueError\u001b[0m                                Traceback (most recent call last)",
      "\u001b[1;32mc:\\Users\\guill\\Dropbox\\Ingenieur_civil_Mines\\S4\\PI MOLONARI\\Projet_calcul\\pyheatmy2022\\validation_model.ipynb Cell 10'\u001b[0m in \u001b[0;36m<cell line: 3>\u001b[1;34m()\u001b[0m\n\u001b[0;32m      <a href='vscode-notebook-cell:/c%3A/Users/guill/Dropbox/Ingenieur_civil_Mines/S4/PI%20MOLONARI/Projet_calcul/pyheatmy2022/validation_model.ipynb#ch0000010?line=0'>1</a>\u001b[0m fig, axs \u001b[39m=\u001b[39m plt\u001b[39m.\u001b[39msubplots(\u001b[39m1\u001b[39m, \u001b[39m2\u001b[39m, figsize\u001b[39m=\u001b[39m(\u001b[39m8\u001b[39m,\u001b[39m8\u001b[39m), facecolor \u001b[39m=\u001b[39m \u001b[39m'\u001b[39m\u001b[39mw\u001b[39m\u001b[39m'\u001b[39m)\n\u001b[0;32m      <a href='vscode-notebook-cell:/c%3A/Users/guill/Dropbox/Ingenieur_civil_Mines/S4/PI%20MOLONARI/Projet_calcul/pyheatmy2022/validation_model.ipynb#ch0000010?line=1'>2</a>\u001b[0m axs[\u001b[39m0\u001b[39m]\u001b[39m.\u001b[39mimshow(col\u001b[39m.\u001b[39madvec_flows_solve)\n\u001b[1;32m----> <a href='vscode-notebook-cell:/c%3A/Users/guill/Dropbox/Ingenieur_civil_Mines/S4/PI%20MOLONARI/Projet_calcul/pyheatmy2022/validation_model.ipynb#ch0000010?line=2'>3</a>\u001b[0m axs[\u001b[39m1\u001b[39m]\u001b[39m.\u001b[39mimshow(col\u001b[39m.\u001b[39;49mconduc_flows_solve)\n",
      "File \u001b[1;32mc:\\Users\\guill\\Dropbox\\Ingenieur_civil_Mines\\S4\\PI MOLONARI\\Projet_calcul\\pyheatmy2022\\pyheatmy\\checker.py:33\u001b[0m, in \u001b[0;36mchecker.<locals>.needed.<locals>.new_meth\u001b[1;34m(self, *args, **kargs)\u001b[0m\n\u001b[0;32m     <a href='file:///c%3A/Users/guill/Dropbox/Ingenieur_civil_Mines/S4/PI%20MOLONARI/Projet_calcul/pyheatmy2022/pyheatmy/checker.py?line=29'>30</a>\u001b[0m \u001b[39m@wraps\u001b[39m(meth)\n\u001b[0;32m     <a href='file:///c%3A/Users/guill/Dropbox/Ingenieur_civil_Mines/S4/PI%20MOLONARI/Projet_calcul/pyheatmy2022/pyheatmy/checker.py?line=30'>31</a>\u001b[0m \u001b[39mdef\u001b[39;00m \u001b[39mnew_meth\u001b[39m(\u001b[39mself\u001b[39m, \u001b[39m*\u001b[39margs, \u001b[39m*\u001b[39m\u001b[39m*\u001b[39mkargs):\n\u001b[0;32m     <a href='file:///c%3A/Users/guill/Dropbox/Ingenieur_civil_Mines/S4/PI%20MOLONARI/Projet_calcul/pyheatmy2022/pyheatmy/checker.py?line=31'>32</a>\u001b[0m     \u001b[39mif\u001b[39;00m \u001b[39mhasattr\u001b[39m(\u001b[39mself\u001b[39m, chkd_name) \u001b[39mand\u001b[39;00m \u001b[39mgetattr\u001b[39m(\u001b[39mself\u001b[39m, chkd_name):\n\u001b[1;32m---> <a href='file:///c%3A/Users/guill/Dropbox/Ingenieur_civil_Mines/S4/PI%20MOLONARI/Projet_calcul/pyheatmy2022/pyheatmy/checker.py?line=32'>33</a>\u001b[0m         \u001b[39mreturn\u001b[39;00m meth(\u001b[39mself\u001b[39m, \u001b[39m*\u001b[39margs, \u001b[39m*\u001b[39m\u001b[39m*\u001b[39mkargs)\n\u001b[0;32m     <a href='file:///c%3A/Users/guill/Dropbox/Ingenieur_civil_Mines/S4/PI%20MOLONARI/Projet_calcul/pyheatmy2022/pyheatmy/checker.py?line=33'>34</a>\u001b[0m     \u001b[39mraise\u001b[39;00m ComputationOrderException(\n\u001b[0;32m     <a href='file:///c%3A/Users/guill/Dropbox/Ingenieur_civil_Mines/S4/PI%20MOLONARI/Projet_calcul/pyheatmy2022/pyheatmy/checker.py?line=34'>35</a>\u001b[0m         \u001b[39mf\u001b[39m\u001b[39m\"\u001b[39m\u001b[39m{\u001b[39;00mchecked_meth\u001b[39m.\u001b[39m\u001b[39m__name__\u001b[39m\u001b[39m}\u001b[39;00m\u001b[39m has to be computed before calling \u001b[39m\u001b[39m{\u001b[39;00mmeth\u001b[39m.\u001b[39m\u001b[39m__name__\u001b[39m\u001b[39m}\u001b[39;00m\u001b[39m.\u001b[39m\u001b[39m\"\u001b[39m\n\u001b[0;32m     <a href='file:///c%3A/Users/guill/Dropbox/Ingenieur_civil_Mines/S4/PI%20MOLONARI/Projet_calcul/pyheatmy2022/pyheatmy/checker.py?line=35'>36</a>\u001b[0m     )\n",
      "File \u001b[1;32mc:\\Users\\guill\\Dropbox\\Ingenieur_civil_Mines\\S4\\PI MOLONARI\\Projet_calcul\\pyheatmy2022\\pyheatmy\\core.py:162\u001b[0m, in \u001b[0;36mget_conduc_flows_solve\u001b[1;34m(self)\u001b[0m\n\u001b[0;32m    <a href='file:///c%3A/Users/guill/Dropbox/Ingenieur_civil_Mines/S4/PI%20MOLONARI/Projet_calcul/pyheatmy2022/pyheatmy/core.py?line=159'>160</a>\u001b[0m \n\u001b[0;32m    <a href='file:///c%3A/Users/guill/Dropbox/Ingenieur_civil_Mines/S4/PI%20MOLONARI/Projet_calcul/pyheatmy2022/pyheatmy/core.py?line=160'>161</a>\u001b[0m         nablaT[nb_cells - 1, :] = 2 * \\\n\u001b[1;32m--> <a href='file:///c%3A/Users/guill/Dropbox/Ingenieur_civil_Mines/S4/PI%20MOLONARI/Projet_calcul/pyheatmy2022/pyheatmy/core.py?line=161'>162</a>\u001b[0m             (self._T_aq - self._temps[nb_cells - 2, :])/(3*dz)\n\u001b[0;32m    <a href='file:///c%3A/Users/guill/Dropbox/Ingenieur_civil_Mines/S4/PI%20MOLONARI/Projet_calcul/pyheatmy2022/pyheatmy/core.py?line=162'>163</a>\u001b[0m \n\u001b[0;32m    <a href='file:///c%3A/Users/guill/Dropbox/Ingenieur_civil_Mines/S4/PI%20MOLONARI/Projet_calcul/pyheatmy2022/pyheatmy/core.py?line=163'>164</a>\u001b[0m         return lambda_m * nablaT\n",
      "\u001b[1;31mValueError\u001b[0m: operands could not be broadcast together with shapes (1438,) (1460,) "
     ]
    },
    {
     "data": {
      "image/png": "[encoded data removed]",
      "text/plain": [
       "<Figure size 576x576 with 2 Axes>"
      ]
     },
     "metadata": {},
     "output_type": "display_data"
    }
   ],
   "source": [
    "fig, axs = plt.subplots(1, 2, figsize=(8,8), facecolor = 'w')\n",
    "axs[0].imshow(col.advec_flows_solve)\n",
    "axs[1].imshow(col.conduc_flows_solve)"
   ]
  },
  {
   "cell_type": "code",
   "execution_count": null,
   "metadata": {},
   "outputs": [],
   "source": [
    "from itertools import islice\n",
    "\n",
    "fig, axs = plt.subplots(1, 2, figsize=(8,4),facecolor = 'w')\n",
    "\n",
    "ite = zip(\n",
    "    col.temps_solve.T,\n",
    "    col.times_solve\n",
    ")\n",
    "for temps, t in islice(ite, 20, None, 20):\n",
    "    axs[0].plot(\n",
    "        col.depths_solve,\n",
    "        temps,\n",
    "        label = f\"{t:.1e}\"\n",
    "    )\n",
    "axs[1].plot(\n",
    "    col.times_solve,\n",
    "    col.flows_solve.T,\n",
    "    label = f\"{t:.1e}\"\n",
    ")\n",
    "\n",
    "axs[0].set_xlabel(\"depth (m)\")\n",
    "axs[0].set_ylabel(\"temperature (K)\")\n",
    "#axs[1].legend()"
   ]
  },
  {
   "cell_type": "code",
   "execution_count": null,
   "metadata": {},
   "outputs": [],
   "source": [
    "ind = 23\n",
    "print(f\"Index {ind} in z_array -> {col.depths_solve[ind]}\")\n",
    "print(f\"Temp at index {ind} and t = 0 -> {col.temps_solve[0, ind]:.3f}\")\n",
    "print(f\"Temp at {col.depths_solve[ind]:.3f} -> {col.get_temps_solve(z = col.depths_solve[ind])[0]:.3f}\")\n",
    "print(\"col.get_temps correct inaccuracy in z.\")\n",
    "print(f\"Temp at {col.depths_solve[ind]+1e-3:.3f} -> {col.get_temps_solve(z = col.depths_solve[ind]+1e-4)[0]:.3f}\")\n",
    "\n",
    "fig, ax = plt.subplots(facecolor = 'w')\n",
    "ax.plot(col.times_solve, col.get_temps_solve(col.depths_solve[0]), label = f\"depth={col.depths_solve[0]:.3f}\")\n",
    "ax.plot(col.times_solve, col.get_temps_solve(col.depths_solve[ind]), label = f\"depth={col.depths_solve[ind]:.3f}\")\n",
    "ax.set_xlabel(\"time (s)\")\n",
    "ax.set_ylabel(\"temperature (K)\")\n",
    "ax.legend()\n",
    "#TODO : Faire la meme avec le temps en paramètre"
   ]
  },
  {
   "cell_type": "code",
   "execution_count": null,
   "metadata": {
    "tags": []
   },
   "outputs": [],
   "source": [
    "priors = {\n",
    "    \"moinslog10K\": ((1.5, 6), .01), # (intervalle, sigma)\n",
    "    \"n\": ((.01, .25), .01),\n",
    "    \"lambda_s\": ((1, 5), .1),\n",
    "    \"rhos_cs\": ((1e6,1e7), 1e5),\n",
    "}\n",
    "\n",
    "col.compute_mcmc(\n",
    "    nb_iter = 200,\n",
    "    priors = priors,\n",
    "    nb_cells = 100,\n",
    "    quantile = (.05, .5, .95)\n",
    ")"
   ]
  },
  {
   "cell_type": "code",
   "execution_count": null,
   "metadata": {},
   "outputs": [],
   "source": [
    "print(\"Normal si les resultats ont pas de sens\")\n",
    "\n",
    "fig, axes = plt.subplots(1, 4, figsize = (9,4), facecolor = 'w')\n",
    "\n",
    "ite = zip(\n",
    "    [\"moinslog10K\", \"n\", \"lambda_s\", \"rhos_cs\"],\n",
    "    [col.all_moinslog10K, col.all_n, col.all_lambda_s, col.all_rhos_cs] \n",
    ")\n",
    "\n",
    "for (lbl, vals), ax in zip(ite, axes):\n",
    "    ax.hist(vals, bins = 20)\n",
    "    ax.set_title(lbl)\n",
    "#col.get_all_n() et ses dérivés sont aussi dispo sous forme de méthodes"
   ]
  },
  {
   "cell_type": "code",
   "execution_count": null,
   "metadata": {},
   "outputs": [],
   "source": [
    "fig, axs = plt.subplots(1,2,facecolor = 'w')\n",
    "axs[0].plot(col.all_energy)\n",
    "axs[1].plot(col.all_acceptance_ratio)\n",
    "\n",
    "axs[0].set_xlabel(\"iteration\")\n",
    "axs[0].set_ylabel(\"energy\")\n",
    "axs[1].set_xlabel(\"iteration\")\n",
    "axs[1].set_ylabel(\"acceptance\")"
   ]
  },
  {
   "cell_type": "code",
   "execution_count": null,
   "metadata": {},
   "outputs": [],
   "source": [
    "#Can also sample param from mcmc trajectory\n",
    "sampled_params = col.get_best_param()\n",
    "print(sampled_params)\n",
    "\n",
    "col.compute_solve_transi(sampled_params, 41)\n",
    "\n",
    "fig, ax = plt.subplots(facecolor = 'w')\n",
    "\n",
    "ax.imshow(\n",
    "    col.temps_solve,\n",
    "    aspect = \"auto\",\n",
    "    extent = [col.depths_solve[0], col.depths_solve[-1], 0, 1]\n",
    ")\n",
    "\n",
    "ax.set_xlabel(\"depth (m)\")\n",
    "ax.set_ylabel(\"time (s)\")"
   ]
  },
  {
   "cell_type": "code",
   "execution_count": null,
   "metadata": {},
   "outputs": [],
   "source": [
    "fig, ax = plt.subplots(facecolor = 'w')\n",
    "\n",
    "#Pas encore possible de donner le temps encore.\n",
    "for quant in (.05,.5,.95):\n",
    "    ax.plot(\n",
    "        col.times_mcmc,\n",
    "        col.get_temps_quantile(quant)[20, :],\n",
    "        label = quant\n",
    "    )\n",
    "    \n",
    "ax.legend()"
   ]
  },
  {
   "cell_type": "code",
   "execution_count": null,
   "metadata": {},
   "outputs": [],
   "source": []
  }
 ],
 "metadata": {
  "interpreter": {
   "hash": "7873339417fdc99ed7c5cdf46cff55a8f101303a71ae8adb83f37f9687716849"
  },
  "kernelspec": {
   "display_name": "Python 3 (ipykernel)",
   "language": "python",
   "name": "python3"
  },
  "language_info": {
   "codemirror_mode": {
    "name": "ipython",
    "version": 3
   },
   "file_extension": ".py",
   "mimetype": "text/x-python",
   "name": "python",
   "nbconvert_exporter": "python",
   "pygments_lexer": "ipython3",
   "version": "3.10.4"
  }
 },
 "nbformat": 4,
 "nbformat_minor": 4
}
