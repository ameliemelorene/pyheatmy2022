{
 "cells": [
  {
   "cell_type": "markdown",
   "metadata": {},
   "source": [
    "# Demo cas test avec maquette\n",
    "\n",
    "Ceci est un notebook pour des expériences numériques en différents cas faites avec la maquette.\n",
    "\n",
    "Cas infiltration, conduction : dH > 0, K petit\n",
    "\n",
    "Cas infiltration, advection : dH > 0, K grand\n",
    "\n",
    "Cas exfiltration, conduction : dH < 0, K petit\n",
    "\n",
    "Cas exfiltration, advection : dH < 0, K grand"
   ]
  },
  {
   "cell_type": "code",
   "execution_count": 1,
   "metadata": {},
   "outputs": [],
   "source": [
    "from pyheatmy import *\n",
    "import matplotlib.pyplot as plt\n",
    "import numpy as np"
   ]
  },
  {
   "cell_type": "markdown",
   "metadata": {},
   "source": [
    "## Variables globales de l'expérience"
   ]
  },
  {
   "cell_type": "code",
   "execution_count": 2,
   "metadata": {},
   "outputs": [],
   "source": [
    "K_offset = 273.15\n",
    "\n",
    "t_debut = (2010, 1, 1)\n",
    "t_fin = (2010, 5, 30, 23, 59, 59)\n",
    "dt = 15*60 # pas de temps en (s)\n",
    "\n",
    "T_riv_amp = 1\n",
    "T_riv_offset = 20 + K_offset\n",
    "P_T_riv = 24*4*dt\n",
    "\n",
    "T_aq_amp = 0\n",
    "T_aq_offset = 12 + K_offset\n",
    "P_T_aq = -9999 # à mettre dans le init\n",
    "\n",
    "dH_amp = 0\n",
    "dH_offset = 1\n",
    "P_dh = -9999 #14*24*4*dt"
   ]
  },
  {
   "cell_type": "markdown",
   "metadata": {},
   "source": [
    "## Fonction de définition de l'expérience"
   ]
  },
  {
   "cell_type": "code",
   "execution_count": 12,
   "metadata": {},
   "outputs": [],
   "source": [
    "def gen_experiment_monolayer(depth_sensors, name, moinslog10K, n, lambda_s, rho_cs, nb_cells, perturb=\"False\"):\n",
    "    \"\"\"Cette fonction va dépendre de beaucoup de variables globales\"\"\"\n",
    "    # définition de l'expérience \n",
    "    \"\"\"Times series\"\"\"\n",
    "    time_series_dict = {\n",
    "        \"offset\" : 0,\n",
    "        \"depth_sensors\":depth_sensors,\n",
    "        \"param_time_dates\": [t_debut, t_fin, dt], \n",
    "        \"param_dH_signal\": [dH_amp, P_dh, dH_offset],\n",
    "        \"param_T_riv_signal\": [T_riv_amp, P_T_riv, T_riv_offset],\n",
    "        \"param_T_aq_signal\": [T_aq_amp, P_T_aq, T_aq_offset],\n",
    "        \"sigma_meas_P\": 0.05,\n",
    "        \"sigma_meas_T\": 0.1, #float\n",
    "    }\n",
    "    # on génère l'objet Times_series\n",
    "    time_series = Time_series.from_dict(time_series_dict)\n",
    "    # on génère les données\n",
    "    if perturb == True :\n",
    "        time_series._generate_perturb_T_riv_dH_series()\n",
    "        time_series._generate_perturb_T_Shaft_Temp_series()\n",
    "    else :\n",
    "        time_series._generate_T_riv_dH_series()\n",
    "        time_series._generate_Shaft_Temp_series()\n",
    "\n",
    "    \"\"\"Colonne\"\"\"\n",
    "    col_dict = {\n",
    "        \"river_bed\": 1., \n",
    "        \"depth_sensors\": depth_sensors,\n",
    "        \"offset\": .0,\n",
    "        \"dH_measures\": time_series._T_riv_dH_measures,\n",
    "        \"T_measures\": time_series._T_Shaft_measures,\n",
    "        \"sigma_meas_P\": time_series._sigma_P, #float\n",
    "        \"sigma_meas_T\": time_series._sigma_T, #float\n",
    "    }\n",
    "    # on génère l'objet Column à partir de l'objet Time_series\n",
    "    colonne_exp = Column.from_dict(col_dict)\n",
    "\n",
    "    \"\"\"Layer\"\"\"\n",
    "    monolayer_dict = {\n",
    "        \"name\": name,\n",
    "        \"zLow\": depth_sensors[-1],\n",
    "        \"moinslog10K\": moinslog10K,\n",
    "        \"n\": n,\n",
    "        \"lambda_s\": lambda_s,\n",
    "        \"rhos_cs\": rho_cs\n",
    "    }\n",
    "    # on génère l'objet Layer\n",
    "    monolayer = Layer.from_dict(monolayer_dict)\n",
    "\n",
    "    \"\"\"Valeurs analytiques\"\"\"\n",
    "    analy_sol_dict = {\n",
    "        \"column_exp\" : colonne_exp,\n",
    "        \"time_series\" : time_series,\n",
    "        \"monolayer\" : monolayer,\n",
    "        \"nb_cells\" : nb_cells,\n",
    "    }\n",
    "\n",
    "    # on génère l'objet des solution analytique\n",
    "    analy_sol_exp = Analy_Sol.from_dict(analy_sol_dict)\n",
    "    return time_series, colonne_exp, monolayer, analy_sol_exp"
   ]
  },
  {
   "cell_type": "markdown",
   "metadata": {},
   "source": [
    "## 1. Maquette multilayer (Billes en verre, Sable)\n"
   ]
  },
  {
   "cell_type": "code",
   "execution_count": 13,
   "metadata": {},
   "outputs": [],
   "source": [
    "# paramètres principaux de l'expérience\n",
    "dict_exp ={\n",
    "    \"depth_sensors\": [.25, .5, .75, 1],\n",
    "    \"name\" : \"sable\",\n",
    "    \"moinslog10K\": 4,\n",
    "    \"n\": 0.1,\n",
    "    \"lambda_s\": 2,\n",
    "    \"rho_cs\": 4e6,\n",
    "    \"nb_cells\": 100,\n",
    "}\n",
    "# maj variables globales\n",
    "\n",
    "experiment = [*gen_experiment_monolayer(**dict_exp)] # [time_series, colonne_exp, monolayer, analy_sol_exp]"
   ]
  },
  {
   "cell_type": "markdown",
   "metadata": {},
   "source": [
    "#### d. Schéma maquette"
   ]
  },
  {
   "cell_type": "markdown",
   "metadata": {},
   "source": [
    "à ajouter "
   ]
  },
  {
   "cell_type": "markdown",
   "metadata": {},
   "source": [
    "### B. Calculs et prédictions d'obeservation"
   ]
  },
  {
   "cell_type": "code",
   "execution_count": null,
   "metadata": {},
   "outputs": [],
   "source": [
    "col.compute_solve_transi(layersList_1, 100)"
   ]
  },
  {
   "cell_type": "code",
   "execution_count": null,
   "metadata": {},
   "outputs": [],
   "source": [
    "# Diagramme T-z\n",
    "fig, ax = plt.subplots(figsize=(10, 7), facecolor = 'w')\n",
    "\n",
    "imm = ax.imshow(\n",
    "    col.temps_solve - 273.15,\n",
    "    aspect = \"auto\",\n",
    "    extent = [0, 1, col.depths_solve[-1], col.depths_solve[0]], #TODO : trouver comment monter le datetime\n",
    ")\n",
    "cbar = fig.colorbar(imm, shrink=1,location='left')\n",
    "cbar.set_label('Temperature (Celsius)')\n",
    "\n",
    "fig.suptitle(\"Variantion of temperature\")\n",
    "ax.set_xlabel(\"time (?)\")\n",
    "ax.set_ylabel(\"depth (m)\")\n",
    "np.min(col.temps_solve)"
   ]
  },
  {
   "cell_type": "code",
   "execution_count": null,
   "metadata": {},
   "outputs": [],
   "source": [
    "# Diagramme T-t\n",
    "ind1 = 25\n",
    "ind2 = 50\n",
    "ind3 = 75\n",
    "print(f\"Index {ind1} in z_array -> {col.depths_solve[ind1]}\")\n",
    "print(f\"Index {ind2} in z_array -> {col.depths_solve[ind2]}\")\n",
    "print(f\"Index {ind3} in z_array -> {col.depths_solve[ind3]}\")\n",
    "\n",
    "fig, ax = plt.subplots(facecolor = 'w')\n",
    "ax.plot(col.times_solve, col.get_temps_solve(col.depths_solve[0])-273.15, label = f\"depth={col.depths_solve[0]:.3f}m\")\n",
    "ax.plot(col.times_solve, col.get_temps_solve(col.depths_solve[ind1])-273.15, label = f\"depth={col.depths_solve[ind1]:.3f}m\")\n",
    "ax.plot(col.times_solve, col.get_temps_solve(col.depths_solve[ind2])-273.15, label = f\"depth={col.depths_solve[ind2]:.3f}m\")\n",
    "ax.plot(col.times_solve, col.get_temps_solve(col.depths_solve[ind3])-273.15, label = f\"depth={col.depths_solve[ind3]:.3f}m\")\n",
    "fig.suptitle(\"Variation of temperature at different depths\")\n",
    "ax.set_xlabel(\"time (s)\")\n",
    "ax.set_ylabel(\"temperature (K)\")\n",
    "#ax.set_xlim(0,0.1)\n",
    "ax.legend()"
   ]
  },
  {
   "cell_type": "markdown",
   "metadata": {},
   "source": [
    "## 2.Monolayer stationnaire"
   ]
  },
  {
   "cell_type": "markdown",
   "metadata": {},
   "source": [
    "### A. Cas infiltration conduction ：dH > 0, K petit"
   ]
  },
  {
   "cell_type": "markdown",
   "metadata": {},
   "source": [
    "#### a. Définition d'expérience"
   ]
  },
  {
   "cell_type": "code",
   "execution_count": null,
   "metadata": {},
   "outputs": [],
   "source": [
    "K_offset = 273.15\n",
    "\n",
    "t_debut = (2010, 1, 1)\n",
    "t_fin = (2010, 5, 30, 23, 59, 59)\n",
    "dt = 15*60 # pas de temps en (s)\n",
    "\n",
    "T_riv_amp = 1\n",
    "T_riv_offset = 20 + K_offset\n",
    "P_T_riv = 24*4*dt\n",
    "\n",
    "T_aq_amp = 0\n",
    "T_aq_offset = 12 + K_offset\n",
    "P_T_aq = -9999 # à mettre dans le init\n",
    "\n",
    "dH_amp = 0\n",
    "dH_offset = 1\n",
    "P_dh = -9999 #14*24*4*dt"
   ]
  },
  {
   "cell_type": "code",
   "execution_count": null,
   "metadata": {},
   "outputs": [],
   "source": [
    "time_series_dict_user1 = {\n",
    "    \"offset\":.0,\n",
    "    \"depth_sensors\":[.25, .5, .75, 1],\n",
    "\t\"param_time_dates\": [t_debut, t_fin, dt], \n",
    "    \"param_dH_signal\": [dH_amp, P_dh, dH_offset], #En vrai y aura une 4e valeur ici mais ca prendra en charge pareil\n",
    "\t\"param_T_riv_signal\": [T_riv_amp, P_T_riv, T_riv_offset],\n",
    "    \"param_T_aq_signal\": [T_aq_amp, P_T_aq, T_aq_offset],\n",
    "    \"sigma_meas_P\": None,\n",
    "    \"sigma_meas_T\": None, #float\n",
    "}\n",
    "\n",
    "emu_observ_test_user1 = Time_series.from_dict(time_series_dict_user1)\n",
    "emu_observ_test_user1._dates"
   ]
  },
  {
   "cell_type": "code",
   "execution_count": null,
   "metadata": {},
   "outputs": [],
   "source": [
    "from datetime import datetime\n",
    "\n",
    "times = [datetime.fromtimestamp(1000*k) for k in range(500)]\n",
    "temps = np.load(\"data/val_data.npy\")\n",
    "\n",
    "col_dict = {\n",
    "\t\"river_bed\": 1., \n",
    "    \"depth_sensors\": [.25, .5, .75, 1], #En vrai y aura une 4e valeur ici mais ca prendra en charge pareil\n",
    "\t\"offset\": .0,\n",
    "    \"dH_measures\": list(zip(times,list(zip(-.01*np.cos(np.linspace(0,2*np.pi,500))+.03, temps[:,0])))),\n",
    "\t\"T_measures\": list(zip(times, temps[:,[32,66,-1]])),\n",
    "    \"sigma_meas_P\": None, #float\n",
    "    \"sigma_meas_T\": None, #float\n",
    "}\n",
    "\n",
    "col = Column.from_dict(col_dict)"
   ]
  },
  {
   "cell_type": "code",
   "execution_count": null,
   "metadata": {},
   "outputs": [],
   "source": [
    "params = Param(\n",
    "    moinslog10K = 12,\n",
    "    n = .1,\n",
    "    lambda_s = 2,\n",
    "    rhos_cs = 4e6\n",
    ")"
   ]
  },
  {
   "cell_type": "markdown",
   "metadata": {},
   "source": [
    "#### b. Calculs"
   ]
  },
  {
   "cell_type": "code",
   "execution_count": null,
   "metadata": {},
   "outputs": [],
   "source": [
    "col.compute_solve_transi(params, 100)"
   ]
  },
  {
   "cell_type": "markdown",
   "metadata": {},
   "source": [
    "## 3. Multilayer : 1 capteur par layer"
   ]
  },
  {
   "cell_type": "markdown",
   "metadata": {},
   "source": [
    "## 4. Multilayer : 1 layer sans capteur"
   ]
  }
 ],
 "metadata": {
  "interpreter": {
   "hash": "aee8b7b246df8f9039afb4144a1f6fd8d2ca17a180786b69acc140d282b71a49"
  },
  "kernelspec": {
   "display_name": "Python 3.10.1 64-bit",
   "language": "python",
   "name": "python3"
  },
  "language_info": {
   "codemirror_mode": {
    "name": "ipython",
    "version": 3
   },
   "file_extension": ".py",
   "mimetype": "text/x-python",
   "name": "python",
   "nbconvert_exporter": "python",
   "pygments_lexer": "ipython3",
   "version": "3.10.4"
  },
  "orig_nbformat": 4
 },
 "nbformat": 4,
 "nbformat_minor": 2
}
