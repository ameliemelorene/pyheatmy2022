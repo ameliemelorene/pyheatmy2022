{
 "cells": [
  {
   "cell_type": "markdown",
   "metadata": {},
   "source": [
    "# Demo cas test avec maquette\n",
    "\n",
    "Ceci est un notebook pour des expériences numériques en différents cas faites avec la maquette."
   ]
  },
  {
   "cell_type": "code",
   "execution_count": 1,
   "metadata": {},
   "outputs": [],
   "source": [
    "from pyheatmy import *\n",
    "import matplotlib.pyplot as plt\n",
    "import numpy as np"
   ]
  },
  {
   "cell_type": "markdown",
   "metadata": {},
   "source": [
    "## 1. Maquette\n",
    "\n",
    "### A. Définition expérience"
   ]
  },
  {
   "cell_type": "code",
   "execution_count": 2,
   "metadata": {},
   "outputs": [],
   "source": [
    "# l'utilisateur saisit ses paramètres d'émulation de mesure\n",
    "\n",
    "K_offset = 273.15\n",
    "\n",
    "t_debut = (2010, 1, 1)\n",
    "t_fin = (2010, 5, 30, 23, 59, 59)\n",
    "dt = 15*60 # pas de temps en (s)\n",
    "\n",
    "T_riv_amp = 1\n",
    "T_riv_offset = 20 +K_offset\n",
    "P_T_riv = 24*4*dt\n",
    "\n",
    "T_aq_amp = 0\n",
    "T_aq_offset = 12 + K_offset\n",
    "P_T_aq = -9999 # à mettre dans le init\n",
    "\n",
    "dH_amp = 0\n",
    "dH_offset = 1\n",
    "P_dh = -9999 #14*24*4*dt"
   ]
  },
  {
   "cell_type": "markdown",
   "metadata": {},
   "source": [
    "#### Définition de time_series"
   ]
  },
  {
   "cell_type": "code",
   "execution_count": 3,
   "metadata": {},
   "outputs": [],
   "source": [
    "time_series_dict_user1 = {\n",
    "    \"offset\":.0,\n",
    "    \"depth_sensors\":[.25, .5, .75, 1],\n",
    "\t\"param_time_dates\": [t_debut, t_fin, dt], \n",
    "    \"param_dH_signal\": [dH_amp, P_dh, dH_offset], #En vrai y aura une 4e valeur ici mais ca prendra en charge pareil\n",
    "\t\"param_T_riv_signal\": [T_riv_amp, P_T_riv, T_riv_offset],\n",
    "    \"param_T_aq_signal\": [T_aq_amp, P_T_aq, T_aq_offset],\n",
    "    \"sigma_meas_P\": None,\n",
    "    \"sigma_meas_T\": None, #float\n",
    "}\n",
    "\n",
    "emu_observ_test_user1 = Time_series.from_dict(time_series_dict_user1)\n",
    "emu_observ_test_user1._dates"
   ]
  },
  {
   "cell_type": "markdown",
   "metadata": {},
   "source": [
    "#### Définition de colonne"
   ]
  },
  {
   "cell_type": "code",
   "execution_count": null,
   "metadata": {},
   "outputs": [],
   "source": [
    "from datetime import datetime\n",
    "\n",
    "times = [datetime.fromtimestamp(1000*k) for k in range(500)]\n",
    "temps = np.load(\"data/val_data.npy\")\n",
    "\n",
    "col_dict = {\n",
    "\t\"river_bed\": 1., \n",
    "    \"depth_sensors\": [.15, .25, .4], #En vrai y aura une 4e valeur ici mais ca prendra en charge pareil\n",
    "\t\"offset\": .05,\n",
    "    \"dH_measures\": list(zip(times,list(zip(-.01*np.cos(np.linspace(0,2*np.pi,500))+.03, temps[:,0])))),\n",
    "\t\"T_measures\": list(zip(times, temps[:,[32,66,-1]])),\n",
    "    \"sigma_meas_P\": None, #float\n",
    "    \"sigma_meas_T\": None, #float\n",
    "}\n",
    "\n",
    "col = Column.from_dict(col_dict)"
   ]
  },
  {
   "cell_type": "markdown",
   "metadata": {},
   "source": [
    "#### Définition de layer"
   ]
  },
  {
   "cell_type": "code",
   "execution_count": null,
   "metadata": {},
   "outputs": [],
   "source": [
    "layer = {\n",
    "    (\"couche 1\", 0, 0.20, 4, 0.1, 2, 4e6),\n",
    "    (\"Couche 2\", 0.20, 0.45, 4, 0.1, 2, 4e6)\n",
    "}\n",
    "\n",
    "layersList_1 = layers.layersListCreator(layer)"
   ]
  },
  {
   "cell_type": "markdown",
   "metadata": {},
   "source": [
    "#### Schéma maquette"
   ]
  },
  {
   "cell_type": "markdown",
   "metadata": {},
   "source": [
    "### B. Calculs et prédictions d'obeservation"
   ]
  }
 ],
 "metadata": {
  "interpreter": {
   "hash": "aee8b7b246df8f9039afb4144a1f6fd8d2ca17a180786b69acc140d282b71a49"
  },
  "kernelspec": {
   "display_name": "Python 3.10.1 64-bit",
   "language": "python",
   "name": "python3"
  },
  "language_info": {
   "codemirror_mode": {
    "name": "ipython",
    "version": 3
   },
   "file_extension": ".py",
   "mimetype": "text/x-python",
   "name": "python",
   "nbconvert_exporter": "python",
   "pygments_lexer": "ipython3",
   "version": "3.10.1"
  },
  "orig_nbformat": 4
 },
 "nbformat": 4,
 "nbformat_minor": 2
}
